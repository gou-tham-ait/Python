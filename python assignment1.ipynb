{
 "cells": [
  {
   "cell_type": "code",
   "execution_count": 3,
   "id": "f6729220-710b-4771-a391-4e7f28ae7c29",
   "metadata": {},
   "outputs": [
    {
     "name": "stdout",
     "output_type": "stream",
     "text": [
      "Welcome to 'Guess the Number'!\n",
      "I'm thinking of a number between 1 and 100.\n"
     ]
    },
    {
     "name": "stdin",
     "output_type": "stream",
     "text": [
      "Take a guess:  66\n"
     ]
    },
    {
     "name": "stdout",
     "output_type": "stream",
     "text": [
      "Too high. Try again.\n"
     ]
    },
    {
     "name": "stdin",
     "output_type": "stream",
     "text": [
      "Take a guess:  55\n"
     ]
    },
    {
     "name": "stdout",
     "output_type": "stream",
     "text": [
      "Too high. Try again.\n"
     ]
    },
    {
     "name": "stdin",
     "output_type": "stream",
     "text": [
      "Take a guess:  37\n"
     ]
    },
    {
     "name": "stdout",
     "output_type": "stream",
     "text": [
      "Too low. Try again.\n"
     ]
    },
    {
     "name": "stdin",
     "output_type": "stream",
     "text": [
      "Take a guess:  45\n"
     ]
    },
    {
     "name": "stdout",
     "output_type": "stream",
     "text": [
      "Too low. Try again.\n"
     ]
    },
    {
     "name": "stdin",
     "output_type": "stream",
     "text": [
      "Take a guess:  48\n"
     ]
    },
    {
     "name": "stdout",
     "output_type": "stream",
     "text": [
      "Too low. Try again.\n"
     ]
    },
    {
     "name": "stdin",
     "output_type": "stream",
     "text": [
      "Take a guess:  51\n"
     ]
    },
    {
     "name": "stdout",
     "output_type": "stream",
     "text": [
      "Too high. Try again.\n"
     ]
    },
    {
     "name": "stdin",
     "output_type": "stream",
     "text": [
      "Take a guess:  50\n"
     ]
    },
    {
     "name": "stdout",
     "output_type": "stream",
     "text": [
      "Too high. Try again.\n"
     ]
    },
    {
     "name": "stdin",
     "output_type": "stream",
     "text": [
      "Take a guess:  49\n"
     ]
    },
    {
     "name": "stdout",
     "output_type": "stream",
     "text": [
      "Congratulations! You guessed the number in 8 attempts.\n"
     ]
    }
   ],
   "source": [
    "import random\n",
    "\n",
    "def guess_the_number():\n",
    "    number_to_guess = random.randint(1, 100)\n",
    "    attempts = 0\n",
    "\n",
    "    print(\"Welcome to 'Guess the Number'!\")\n",
    "    print(\"I'm thinking of a number between 1 and 100.\")\n",
    "\n",
    "    while True:\n",
    "        try:\n",
    "            guess = int(input(\"Take a guess: \"))\n",
    "            attempts += 1\n",
    "\n",
    "            if guess < number_to_guess:\n",
    "                print(\"Too low. Try again.\")\n",
    "            elif guess > number_to_guess:\n",
    "                print(\"Too high. Try again.\")\n",
    "            else:\n",
    "                print(f\"Congratulations! You guessed the number in {attempts} attempts.\")\n",
    "                break\n",
    "        except ValueError:\n",
    "            print(\"Please enter a valid integer.\")\n",
    "\n",
    "guess_the_number()\n"
   ]
  },
  {
   "cell_type": "code",
   "execution_count": 4,
   "id": "75b1107c-2740-4d8a-b545-afb6c9e91e69",
   "metadata": {},
   "outputs": [
    {
     "name": "stdout",
     "output_type": "stream",
     "text": [
      "Welcome to Rock, Paper, Scissors!\n"
     ]
    },
    {
     "name": "stdin",
     "output_type": "stream",
     "text": [
      "Enter rock, paper, or scissors (or 'quit' to stop):  rock\n"
     ]
    },
    {
     "name": "stdout",
     "output_type": "stream",
     "text": [
      "Computer chose: paper\n",
      "You lose!\n"
     ]
    },
    {
     "name": "stdin",
     "output_type": "stream",
     "text": [
      "Enter rock, paper, or scissors (or 'quit' to stop):  paper\n"
     ]
    },
    {
     "name": "stdout",
     "output_type": "stream",
     "text": [
      "Computer chose: paper\n",
      "It's a tie!\n"
     ]
    },
    {
     "name": "stdin",
     "output_type": "stream",
     "text": [
      "Enter rock, paper, or scissors (or 'quit' to stop):  scissors\n"
     ]
    },
    {
     "name": "stdout",
     "output_type": "stream",
     "text": [
      "Computer chose: rock\n",
      "You lose!\n"
     ]
    },
    {
     "name": "stdin",
     "output_type": "stream",
     "text": [
      "Enter rock, paper, or scissors (or 'quit' to stop):  paper\n"
     ]
    },
    {
     "name": "stdout",
     "output_type": "stream",
     "text": [
      "Computer chose: rock\n",
      "You win!\n"
     ]
    },
    {
     "name": "stdin",
     "output_type": "stream",
     "text": [
      "Enter rock, paper, or scissors (or 'quit' to stop):  quit\n"
     ]
    },
    {
     "name": "stdout",
     "output_type": "stream",
     "text": [
      "Thanks for playing!\n"
     ]
    }
   ],
   "source": [
    "import random\n",
    "\n",
    "def rock_paper_scissors():\n",
    "    choices = [\"rock\", \"paper\", \"scissors\"]\n",
    "    print(\"Welcome to Rock, Paper, Scissors!\")\n",
    "    \n",
    "    while True:\n",
    "        user_choice = input(\"Enter rock, paper, or scissors (or 'quit' to stop): \").lower()\n",
    "        if user_choice == 'quit':\n",
    "            print(\"Thanks for playing!\")\n",
    "            break\n",
    "        if user_choice not in choices:\n",
    "            print(\"Invalid choice. Please try again.\")\n",
    "            continue\n",
    "        \n",
    "        computer_choice = random.choice(choices)\n",
    "        print(f\"Computer chose: {computer_choice}\")\n",
    "\n",
    "        if user_choice == computer_choice:\n",
    "            print(\"It's a tie!\")\n",
    "        elif (\n",
    "            (user_choice == \"rock\" and computer_choice == \"scissors\") or\n",
    "            (user_choice == \"paper\" and computer_choice == \"rock\") or\n",
    "            (user_choice == \"scissors\" and computer_choice == \"paper\")\n",
    "        ):\n",
    "            print(\"You win!\")\n",
    "        else:\n",
    "            print(\"You lose!\")\n",
    "\n",
    "rock_paper_scissors()\n"
   ]
  },
  {
   "cell_type": "code",
   "execution_count": 5,
   "id": "655b0fc6-25d7-42fa-9373-f1e0aeac894f",
   "metadata": {},
   "outputs": [
    {
     "name": "stdout",
     "output_type": "stream",
     "text": [
      "*\n",
      " *\n",
      "  *\n",
      "   *\n",
      "    *\n",
      "     *\n",
      "      *\n",
      "       *\n",
      "        *\n",
      "         *\n",
      "          *\n",
      "           *\n",
      "            *\n",
      "             *\n",
      "              *\n",
      "               *\n",
      "                *\n",
      "                 *\n",
      "                  *\n",
      "                   *\n",
      "                    *\n",
      "                   *\n",
      "                  *\n",
      "                 *\n",
      "                *\n",
      "               *\n",
      "              *\n",
      "             *\n",
      "            *\n",
      "           *\n",
      "          *\n",
      "         *\n",
      "        *\n",
      "       *\n",
      "      *\n",
      "     *\n",
      "    *\n",
      "   *\n",
      "  *\n",
      " *\n",
      "*\n",
      " *\n",
      "  *\n",
      "   *\n",
      "    *\n",
      "     *\n",
      "      *\n",
      "       *\n",
      "        *\n",
      "         *\n",
      "          *\n",
      "           *\n",
      "            *\n",
      "             *\n",
      "              *\n",
      "               *\n",
      "                *\n",
      "                 *\n",
      "                  *\n",
      "                   *\n"
     ]
    }
   ],
   "source": [
    "import time\n",
    "import sys\n",
    "\n",
    "def zigzag(repeat=3):\n",
    "    indent = 0\n",
    "    indent_increasing = True\n",
    "\n",
    "    try:\n",
    "        for _ in range(repeat * 20):\n",
    "            print(' ' * indent + '*')\n",
    "            time.sleep(0.05)\n",
    "\n",
    "            if indent_increasing:\n",
    "                indent += 1\n",
    "                if indent == 20:\n",
    "                    indent_increasing = False\n",
    "            else:\n",
    "                indent -= 1\n",
    "                if indent == 0:\n",
    "                    indent_increasing = True\n",
    "    except KeyboardInterrupt:\n",
    "        sys.exit()\n",
    "\n",
    "zigzag()\n"
   ]
  },
  {
   "cell_type": "code",
   "execution_count": 6,
   "id": "0433cb2b-15e2-4d9e-861f-54d748d2cd68",
   "metadata": {},
   "outputs": [
    {
     "name": "stdin",
     "output_type": "stream",
     "text": [
      "Enter a positive integer:  5\n"
     ]
    },
    {
     "name": "stdout",
     "output_type": "stream",
     "text": [
      "Collatz sequence starting at 5:\n",
      "5 → 16 → 8 → 4 → 2 → 1\n"
     ]
    }
   ],
   "source": [
    "def collatz_sequence(n):\n",
    "    if n <= 0:\n",
    "        print(\"Please enter a positive integer greater than 0.\")\n",
    "        return\n",
    "\n",
    "    print(f\"Collatz sequence starting at {n}:\")\n",
    "    while n != 1:\n",
    "        print(n, end=' → ')\n",
    "        if n % 2 == 0:\n",
    "            n = n // 2\n",
    "        else:\n",
    "            n = 3 * n + 1\n",
    "    print(1)\n",
    "\n",
    "try:\n",
    "    number = int(input(\"Enter a positive integer: \"))\n",
    "    collatz_sequence(number)\n",
    "except ValueError:\n",
    "    print(\"Invalid input. Please enter a valid integer.\")\n"
   ]
  },
  {
   "cell_type": "code",
   "execution_count": 10,
   "id": "0fdeafd6-ce19-4706-818a-927a2eae4339",
   "metadata": {},
   "outputs": [
    {
     "name": "stdout",
     "output_type": "stream",
     "text": [
      "Generation 1\n",
      "█ █   █ █ █     █ █   █ █   █ █ █ █ █ █   █   █   █ █ █ █     █ █   █     █    \n",
      "█     █ █   █   █ █     █   █   █   █ █   █     █           █ █ █     █       █\n",
      "█     █       █ █   █     █ █ █       █   █   █     █     █   █ █   █   █   █ █\n",
      "  █ █           █     █   █ █     █   █ █     █   █   █ █ █   █ █ █   █ █   █  \n",
      "█ █ █ █         █ █ █ █ █   █ █ █     █     █   █ █ █ █ █ █ █   █ █     █   █  \n",
      "█                       █             █ █     █ █       █ █ █ █ █   █ █       █\n",
      "█ █ █       █     █   █ █ █     █   █ █ █ █     █   █ █ █ █ █     █ █   █ █ █ █\n",
      "█       █ █   █   █ █ █   █   █ █ █         █ █ █ █ █ █ █   █ █   █   █ █   █  \n",
      "█ █     █     █ █ █       █     █ █ █   █   █ █   █     █ █ █   █ █ █   █ █   █\n",
      "█   █                 █ █   █         █ █ █ █ █     █ █ █ █ █ █       █ █   █ █\n",
      "█       █ █ █ █ █   █ █ █ █ █ █ █     █   █     █ █ █           █     █     █  \n",
      "█ █       █ █     █   █ █     █   █     █       █ █ █ █   █ █ █       █ █   █  \n",
      "█ █   █ █   █ █ █ █ █       █ █   █     █       █ █     █ █       █   █ █ █    \n",
      "  █   █       █   █       █     █     █   █     █ █ █ █ █ █ █ █ █   █ █ █ █ █ █\n",
      "█ █   █           █ █ █         █   █   █ █ █ █   █         █     █ █   █ █   █\n",
      "█ █ █ █       █ █ █ █ █ █ █ █ █   █ █   █ █ █   █ █   █   █     █ █     █ █ █ █\n",
      "  █       █         █                   █ █ █ █ █ █ █ █ █ █ █     █       █ █  \n",
      "  █   █ █     █     █ █   █       █ █     █ █   █       █ █   █   █       █ █  \n",
      "█ █ █ █   █ █ █ █ █ █   █ █ █       █ █ █ █ █ █ █ █ █ █           █ █   █ █   █\n",
      "    █   █     █   █       █     █           █ █   █ █ █ █             █       █\n",
      "Generation 2\n",
      "  █         █         █ █   █         █   █   █         █ █ █   █ █ █ █ █   █  \n",
      "            █           █                 █   █ █       █ █         █ █ █ █    \n",
      "      █ █           █ █         █ █       █   █   █ █ █   █         █   █   █  \n",
      "                                      █   █   █                         █   █  \n",
      "      █         █ █ █       █ █ █         █ █                           █   █  \n",
      "      █         █           █   █ █         █                                  \n",
      "          █ █   █ █       █ █ █ █   █     █                                    \n",
      "    █ █ █ █   █       █   █   █                                                \n",
      "      █ █ █ █ █   █       █         █   █                         █            \n",
      "      █ █                                                                      \n",
      "        █     █ █ █             █   █ █                         █   █       █  \n",
      "    █ █                           █ █ █ █ █   █       █   █ █ █ █           █  \n",
      "      █ █             █ █ █ █ █   █ █ █ █ █   █                   █            \n",
      "      █     █ █       █     █   █   █ █               █       █ █              \n",
      "      █ █     █                 █   █                                          \n",
      "      █ █       █       █ █ █ █ █ █ █                 █       █ █     █        \n",
      "            █ █                 █                             █   █ █          \n",
      "      █       █           █ █     █ █                             █            \n",
      "          █                 █       █ █ █                 █     █ █ █ █ █ █   █\n",
      "                                █                               █     █   █   █\n",
      "Generation 3\n",
      "                      █ █ █             █     █ █       █   █ █ █           █  \n",
      "          █         █   █ █               █   █   █ █                       █  \n",
      "                      █                   █   █   █ █ █   █         █       █  \n",
      "      █ █             █           █       █   █ █   █                   █   █ █\n",
      "                █ █         █   █ █     █ █   █                                \n",
      "        █           █                       █                                  \n",
      "    █     █ █   █ █     █ █                                                    \n",
      "    █             █ █     █   █ █ █   █                                        \n",
      "              █ █       █   █                                                  \n",
      "                  █               █ █                             █            \n",
      "    █   █       █                                           █   █ █            \n",
      "    █           █       █ █ █ █           █                 █ █ █              \n",
      "        █             █ █ █ █ █           █             █         █            \n",
      "    █     █ █ █       █     █   █                               █              \n",
      "    █     █ █ █ █       █                                                      \n",
      "      █ █ █ █   █         █ █       █                         █ █ █ █          \n",
      "      █ █   █ █ █       █                                     █   █ █          \n",
      "              █           █ █ █   █ █                                   █      \n",
      "                          █ █ █     █ █                         █     █   █    \n",
      "█                         █   █     █                   █   █                 █\n",
      "Generation 4\n",
      "                      █                     █ █ █ █   █     █ █             █  \n",
      "                    █     █             █ █   █         █ █ █ █           █ █ █\n",
      "        █           █ █                 █ █   █       █                     █  \n",
      "                    █           █ █       █   █     █ █                   █ █ █\n",
      "      █ █         █ █           █ █     █ █   █ █                              \n",
      "          █   █     █     █               █ █                                  \n",
      "      █   █     █     █ █ █ █   █                                              \n",
      "            █       █ █       █ █                                              \n",
      "                █   █     █ █ █                                                \n",
      "              █   █                                             █ █            \n",
      "      █         █ █       █ █                               █     █            \n",
      "                      █       █                           █ █                  \n",
      "      █   █ █ █       █         █                                 █            \n",
      "      █ █       █     █     █                                                  \n",
      "    █           █       █   █ █                               █                \n",
      "    █             █     █ █                                   █     █          \n",
      "      █         █       █     █   █ █                         █     █ █        \n",
      "            █ █ █       █     █ █ █ █ █                         █ █ █ █ █      \n",
      "                        █             █                                 █      \n",
      "                              █     █                       █   █           █ █\n",
      "Generation 5\n",
      "                                          █ █ █ █       █       █              \n",
      "                    █   █               █           █ █ █ █   █           █   █\n",
      "                  █ █ █                       █ █   █ █   █ █                  \n",
      "      █ █                       █ █           █     █ █                   █ █ █\n",
      "        █         █ █ █         █ █     █     █ █                           █  \n",
      "      █   █ █   █   █     █ █ █ █ █     █ █ █ █                                \n",
      "        █ █   █   █       █ █   █                                              \n",
      "              █     █           █                                              \n",
      "              █ █   █ █     █ █ █                                              \n",
      "              █     █         █                                 █ █            \n",
      "                █ █ █       █                             █ █ █ █ █            \n",
      "        █   █ █ █   █   █   █ █                           █ █                  \n",
      "      █   █ █ █     █ █ █     █                                                \n",
      "    █ █ █ █ █   █     █ █ █ █                                                  \n",
      "    █           █ █   █ █   █ █                                                \n",
      "    █ █         █ █   █ █     █ █                           █ █ █   █ █        \n",
      "                █ █   █ █   █ █       █                       █         █      \n",
      "              █ █     █ █ █   █       █                         █ █     █      \n",
      "              █               █       █                       █ █   █   █ █    \n",
      "                                              █ █           █             █ █ █\n"
     ]
    }
   ],
   "source": [
    "import numpy as np\n",
    "import os\n",
    "import time\n",
    "\n",
    "def clear_console():\n",
    "    os.system('cls' if os.name == 'nt' else 'clear')\n",
    "\n",
    "def print_grid(grid):\n",
    "    for row in grid:\n",
    "        print(' '.join(['█' if cell else ' ' for cell in row]))\n",
    "\n",
    "def update(grid):\n",
    "    neighbors = sum(np.roll(np.roll(grid, i, 0), j, 1)\n",
    "                    for i in (-1, 0, 1) for j in (-1, 0, 1)\n",
    "                    if (i != 0 or j != 0))\n",
    "    return (neighbors == 3) | ((grid == 1) & (neighbors == 2))\n",
    "\n",
    "def game_of_life(rows=20, cols=40, generations=5, delay=0.1):\n",
    "    grid = np.random.randint(2, size=(rows, cols))\n",
    "\n",
    "    for gen in range(generations):\n",
    "        clear_console()\n",
    "        print(f\"Generation {gen + 1}\")\n",
    "        print_grid(grid)\n",
    "        grid = update(grid)\n",
    "        time.sleep(delay)\n",
    "\n",
    "game_of_life()\n"
   ]
  },
  {
   "cell_type": "code",
   "execution_count": 11,
   "id": "34025b02-cbdc-4071-a31f-31bdb54d00d9",
   "metadata": {},
   "outputs": [
    {
     "name": "stdout",
     "output_type": "stream",
     "text": [
      "apples, bananas, tofu, and cats\n"
     ]
    }
   ],
   "source": [
    "def comma_code(items):\n",
    "    if not items:\n",
    "        return ''\n",
    "    elif len(items) == 1:\n",
    "        return items[0]\n",
    "    else:\n",
    "        return ', '.join(items[:-1]) + ', and ' + items[-1]\n",
    "\n",
    "example_list = ['apples', 'bananas', 'tofu', 'cats']\n",
    "formatted_string = comma_code(example_list)\n",
    "print(formatted_string)\n"
   ]
  },
  {
   "cell_type": "code",
   "execution_count": 12,
   "id": "686ce3b9-4c59-44a1-9f81-7e9fec53d4ba",
   "metadata": {},
   "outputs": [
    {
     "name": "stdout",
     "output_type": "stream",
     "text": [
      "Chance of getting a streak of 6 or more in 100 coin flips: 1.5011\n"
     ]
    }
   ],
   "source": [
    "import random\n",
    "\n",
    "def generate_flips(num_flips=100):\n",
    "    return [random.choice(['H', 'T']) for _ in range(num_flips)]\n",
    "\n",
    "def count_streaks(flips, streak_length=6):\n",
    "    streaks = 0\n",
    "    current_streak = 1\n",
    "\n",
    "    for i in range(1, len(flips)):\n",
    "        if flips[i] == flips[i - 1]:\n",
    "            current_streak += 1\n",
    "            if current_streak == streak_length:\n",
    "                streaks += 1\n",
    "        else:\n",
    "            current_streak = 1 \n",
    "\n",
    "    return streaks\n",
    "\n",
    "num_experiments = 10000\n",
    "total_streaks = 0\n",
    "\n",
    "for _ in range(num_experiments):\n",
    "    flips = generate_flips()\n",
    "    total_streaks += count_streaks(flips)\n",
    "\n",
    "average_streaks = total_streaks / num_experiments\n",
    "print(f\"Chance of getting a streak of 6 or more in 100 coin flips: {average_streaks:.4f}\")\n"
   ]
  },
  {
   "cell_type": "code",
   "execution_count": 13,
   "id": "38d4ed46-80dd-41b5-aa43-285d0d1f32c6",
   "metadata": {},
   "outputs": [
    {
     "name": "stdout",
     "output_type": "stream",
     "text": [
      "..OO.OO..\n",
      ".OOOOOOO.\n",
      ".OOOOOOO.\n",
      "..OOOOO..\n",
      "...OOO...\n",
      "....O....\n"
     ]
    }
   ],
   "source": [
    "grid = [\n",
    "    ['.', '.', '.', '.', '.', '.'],\n",
    "    ['.', 'O', 'O', '.', '.', '.'],\n",
    "    ['O', 'O', 'O', 'O', '.', '.'],\n",
    "    ['O', 'O', 'O', 'O', 'O', '.'],\n",
    "    ['.', 'O', 'O', 'O', 'O', 'O'],\n",
    "    ['O', 'O', 'O', 'O', 'O', '.'],\n",
    "    ['O', 'O', 'O', 'O', '.', '.'],\n",
    "    ['.', 'O', 'O', '.', '.', '.'],\n",
    "    ['.', '.', '.', '.', '.', '.']\n",
    "]\n",
    "\n",
    "for x in range(len(grid[0])):\n",
    "    for y in range(len(grid)):\n",
    "        print(grid[y][x], end='')\n",
    "    print()\n"
   ]
  },
  {
   "cell_type": "code",
   "execution_count": 14,
   "id": "e250342b-96c2-4360-8d7c-ae25a2677481",
   "metadata": {},
   "outputs": [
    {
     "name": "stdout",
     "output_type": "stream",
     "text": [
      "Invalid position: 1h\n",
      "Invalid board.\n"
     ]
    }
   ],
   "source": [
    "def is_valid_chess_board(board):\n",
    "    piece_counts = {}\n",
    "    valid_pieces = {'pawn', 'knight', 'bishop', 'rook', 'queen', 'king'}\n",
    "    valid_positions = [f\"{file}{rank}\" for rank in range(1, 9) for file in 'abcdefgh']\n",
    "\n",
    "    white_king = 0\n",
    "    black_king = 0\n",
    "\n",
    "    for position, piece in board.items():\n",
    "        if position not in valid_positions:\n",
    "            print(f\"Invalid position: {position}\")\n",
    "            return False\n",
    "\n",
    "        if len(piece) < 2 or piece[0] not in 'wb' or piece[1:] not in valid_pieces:\n",
    "            print(f\"Invalid piece: {piece}\")\n",
    "            return False\n",
    "\n",
    "        piece_counts[piece] = piece_counts.get(piece, 0) + 1\n",
    "\n",
    "        if piece == 'wking':\n",
    "            white_king += 1\n",
    "        elif piece == 'bking':\n",
    "            black_king += 1\n",
    "\n",
    "    if white_king != 1 or black_king != 1:\n",
    "        print(\"Each side must have exactly one king.\")\n",
    "        return False\n",
    "\n",
    "    for color in ['w', 'b']:\n",
    "        total_pieces = sum(count for p, count in piece_counts.items() if p.startswith(color))\n",
    "        if total_pieces > 16:\n",
    "            print(f\"Too many {color} pieces: {total_pieces}\")\n",
    "            return False\n",
    "\n",
    "        pawns = piece_counts.get(f'{color}pawn', 0)\n",
    "        if pawns > 8:\n",
    "            print(f\"Too many {color} pawns: {pawns}\")\n",
    "            return False\n",
    "\n",
    "    return True\n",
    "\n",
    "chess_board = {\n",
    "    '1h': 'bking', '6c': 'wqueen', '2g': 'bbishop', '5h': 'bqueen',\n",
    "    '3e': 'wking', '3h': 'bpawn', '4e': 'wpawn'\n",
    "}\n",
    "\n",
    "print(\"Valid board:\" if is_valid_chess_board(chess_board) else \"Invalid board.\")\n"
   ]
  },
  {
   "cell_type": "code",
   "execution_count": 15,
   "id": "5c65e1b2-c727-48e8-8681-7d64ae9011a7",
   "metadata": {},
   "outputs": [
    {
     "name": "stdout",
     "output_type": "stream",
     "text": [
      "Inventory:\n",
      "1 rope\n",
      "6 torch\n",
      "42 gold coin\n",
      "1 dagger\n",
      "12 arrow\n",
      "Total number of items: 62\n"
     ]
    }
   ],
   "source": [
    "def display_inventory(inventory):\n",
    "    print(\"Inventory:\")\n",
    "    item_total = 0\n",
    "    for item, count in inventory.items():\n",
    "        print(f\"{count} {item}\")\n",
    "        item_total += count\n",
    "    print(f\"Total number of items: {item_total}\")\n",
    "\n",
    "inventory = {'rope': 1, 'torch': 6, 'gold coin': 42, 'dagger': 1, 'arrow': 12}\n",
    "display_inventory(inventory)\n"
   ]
  },
  {
   "cell_type": "code",
   "execution_count": 16,
   "id": "4552bfd0-0ea8-45af-966e-db963a1a74ee",
   "metadata": {},
   "outputs": [
    {
     "name": "stdout",
     "output_type": "stream",
     "text": [
      "   Name  Age           City\n",
      "  Alice   23       New York\n",
      "    Bob   34  San Francisco\n",
      "Charlie   29    Los Angeles\n"
     ]
    }
   ],
   "source": [
    "def print_table(table_data):\n",
    "    col_widths = [max(len(str(item)) for item in col) for col in zip(*table_data)]\n",
    "\n",
    "    for row in table_data:\n",
    "        print(\"  \".join(str(item).rjust(width) for item, width in zip(row, col_widths)))\n",
    "\n",
    "table = [\n",
    "    ['Name', 'Age', 'City'],\n",
    "    ['Alice', '23', 'New York'],\n",
    "    ['Bob', '34', 'San Francisco'],\n",
    "    ['Charlie', '29', 'Los Angeles']\n",
    "]\n",
    "\n",
    "print_table(table)\n"
   ]
  },
  {
   "cell_type": "code",
   "execution_count": null,
   "id": "84e88ae6-4ed8-49c8-864c-f8a9adb1ec1f",
   "metadata": {},
   "outputs": [],
   "source": [
    "import random\n",
    "\n",
    "DICE = {\n",
    "    'green':  ['brain', 'brain', 'brain', 'footsteps', 'footsteps', 'shotgun'],\n",
    "    'yellow': ['brain', 'brain', 'footsteps', 'footsteps', 'shotgun', 'shotgun'],\n",
    "    'red':    ['brain', 'footsteps', 'footsteps', 'shotgun', 'shotgun', 'shotgun'],\n",
    "}\n",
    "\n",
    "DICE_CUP = ['green'] * 6 + ['yellow'] * 4 + ['red'] * 3\n",
    "\n",
    "def draw_dice(cup, number):\n",
    "    drawn = random.sample(cup, number)\n",
    "    for d in drawn:\n",
    "        cup.remove(d)\n",
    "    return drawn\n",
    "\n",
    "def roll_dice(dice_list):\n",
    "    results = []\n",
    "    for die in dice_list:\n",
    "        face = random.choice(DICE[die])\n",
    "        results.append((die, face))\n",
    "    return results\n",
    "\n",
    "def play_turn(player_name):\n",
    "    cup = DICE_CUP.copy()\n",
    "    brains_collected = 0\n",
    "    shotguns_collected = 0\n",
    "    footsteps_dice = []\n",
    "\n",
    "    print(f\"\\n{player_name}'s turn:\")\n",
    "\n",
    "    while True:\n",
    "        dice_to_roll = footsteps_dice\n",
    "        dice_needed = 3 - len(dice_to_roll)\n",
    "        if dice_needed > 0 and len(cup) >= dice_needed:\n",
    "            dice_to_roll += draw_dice(cup, dice_needed)\n",
    "\n",
    "        print(f\"Rolling dice: {dice_to_roll}\")\n",
    "\n",
    "        # Roll dice\n",
    "        roll_results = roll_dice(dice_to_roll)\n",
    "        footsteps_dice = []\n",
    "        \n",
    "        for die, face in roll_results:\n",
    "            print(f\"Rolled a {face} on {die} die\")\n",
    "            if face == 'brain':\n",
    "                brains_collected += 1\n",
    "            elif face == 'shotgun':\n",
    "                shotguns_collected += 1\n",
    "            else:  # footsteps\n",
    "                footsteps_dice.append(die)\n",
    "\n",
    "        print(f\"Brains: {brains_collected}, Shotguns: {shotguns_collected}\")\n",
    "\n",
    "        # Stop if 3 or more shotguns\n",
    "        if shotguns_collected >= 3:\n",
    "            print(f\"{player_name} got shot 3 times and loses all brains this turn!\")\n",
    "            return 0  # No brains collected this turn\n",
    "\n",
    "        # Bot decision: stop if collected 2 or more brains this turn\n",
    "        if brains_collected >= 2:\n",
    "            print(f\"{player_name} decides to stop and keep brains.\")\n",
    "            return brains_collected\n",
    "\n",
    "        # If no dice left to roll, stop\n",
    "        if len(cup) == 0 and len(footsteps_dice) == 0:\n",
    "            print(f\"No more dice to roll. {player_name} keeps {brains_collected} brains.\")\n",
    "            return brains_collected\n",
    "\n",
    "def main():\n",
    "    players = ['Bot A', 'Bot B', 'Bot C']\n",
    "    scores = {player: 0 for player in players}\n",
    "    winning_score = 13\n",
    "    turn = 0\n",
    "\n",
    "    while max(scores.values()) < winning_score:\n",
    "        player = players[turn % len(players)]\n",
    "        score = play_turn(player)\n",
    "        scores[player] += score\n",
    "        print(f\"Scores: {scores}\")\n",
    "        turn += 1\n",
    "\n",
    "    winner = max(scores, key=scores.get)\n",
    "    print(f\"\\n{winner} wins with {scores[winner]} brains!\")\n",
    "\n",
    "if __name__ == \"__main__\":\n",
    "    main()\n"
   ]
  }
 ],
 "metadata": {
  "kernelspec": {
   "display_name": "Python 3 (ipykernel)",
   "language": "python",
   "name": "python3"
  },
  "language_info": {
   "codemirror_mode": {
    "name": "ipython",
    "version": 3
   },
   "file_extension": ".py",
   "mimetype": "text/x-python",
   "name": "python",
   "nbconvert_exporter": "python",
   "pygments_lexer": "ipython3",
   "version": "3.13.2"
  }
 },
 "nbformat": 4,
 "nbformat_minor": 5
}
