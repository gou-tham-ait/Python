{
 "cells": [
  {
   "cell_type": "code",
   "execution_count": 7,
   "id": "8437f9d1-f2ce-4774-834c-f574bbb23338",
   "metadata": {},
   "outputs": [
    {
     "name": "stdout",
     "output_type": "stream",
     "text": [
      "Goutham A \n",
      "1AY24AI036 \n",
      "AIML'M' \n"
     ]
    },
    {
     "name": "stdin",
     "output_type": "stream",
     "text": [
      "Enter an adjective:  silly \n",
      "Enter a noun:  chandelier\n",
      "Enter a verb:  screamed\n",
      "Enter a noun:  pickup truck\n"
     ]
    },
    {
     "name": "stdout",
     "output_type": "stream",
     "text": [
      "\n",
      "Final Story:\n",
      "The silly  panda walked to the chandelier and then screamed. A nearby pickup truck was unaffected by these events.\n",
      "\n"
     ]
    }
   ],
   "source": [
    "print(\"Goutham A \\n1AY24AI036 \\nAIML'M' \")\n",
    "import re\n",
    "\n",
    "def get_user_input(word_type):\n",
    "    article = 'an' if word_type[0] in 'AEIOU' else 'a'\n",
    "    return input(f'Enter {article} {word_type.lower()}: ')\n",
    "\n",
    "with open('python.txt', 'r') as file:\n",
    "    text = file.read()\n",
    "\n",
    "placeholders = re.findall(r'\\b(ADJECTIVE|NOUN|ADVERB|VERB)\\b', text)\n",
    "\n",
    "for word in placeholders:\n",
    "    user_word = get_user_input(word)\n",
    "    text = text.replace(word, user_word, 1)\n",
    "\n",
    "print(\"\\nFinal Story:\")\n",
    "print(text)\n",
    "\n",
    "with open('madlibs_output.txt', 'w') as file:\n",
    "    file.write(text)\n"
   ]
  },
  {
   "cell_type": "code",
   "execution_count": 12,
   "id": "7142cb2c-2dc0-4dc9-831e-708570a67e46",
   "metadata": {},
   "outputs": [
    {
     "name": "stdout",
     "output_type": "stream",
     "text": [
      "Goutham A \n",
      "1AY24AI036 \n",
      "AIML'M' \n"
     ]
    },
    {
     "name": "stdin",
     "output_type": "stream",
     "text": [
      "Enter the folder path:  C:\\Users\\Goutham\\OneDrive\\Desktop\n",
      "Enter a regular expression to search for:  panda\n"
     ]
    },
    {
     "name": "stdout",
     "output_type": "stream",
     "text": [
      "Python Assignment 2 (1).ipynb.txt [Line 18]: \"The silly panda walked to the chandelier and then screamed. A nearby pickup truck was unaffected by these events.\\n\",\n",
      "Python Assignment 2 (1).txt [Line 18]: \"The silly panda walked to the chandelier and then screamed. A nearby pickup truck was unaffected by these events.\\n\",\n",
      "python.txt [Line 1]: The ADJECTIVE panda walked to the NOUN and then VERB. A nearby NOUN was unaffected by these events.\n"
     ]
    }
   ],
   "source": [
    "print(\"Goutham A \\n1AY24AI036 \\nAIML'M' \")\n",
    "import os\n",
    "import re\n",
    "\n",
    "folder_path = input(\"Enter the folder path: \").strip()\n",
    "pattern = input(\"Enter a regular expression to search for: \")\n",
    "\n",
    "try:\n",
    "    regex = re.compile(pattern)\n",
    "except re.error:\n",
    "    print(\"Invalid regular expression.\")\n",
    "    exit()\n",
    "\n",
    "for filename in os.listdir(folder_path):\n",
    "    if filename.endswith('.txt'):\n",
    "        file_path = os.path.join(folder_path, filename)\n",
    "        try:\n",
    "            with open(file_path, 'r', encoding='utf-8') as file:\n",
    "                for line_num, line in enumerate(file, start=1):\n",
    "                    if regex.search(line):\n",
    "                        print(f\"{filename} [Line {line_num}]: {line.strip()}\")\n",
    "        except Exception as e:\n",
    "            print(f\"Could not read {filename}: {e}\")\n"
   ]
  },
  {
   "cell_type": "code",
   "execution_count": 11,
   "id": "47509da1-2682-41d1-a713-abe04e5af069",
   "metadata": {},
   "outputs": [
    {
     "name": "stdout",
     "output_type": "stream",
     "text": [
      "Goutham A \n",
      "1AY24AI036 \n",
      "AIML'M' \n"
     ]
    },
    {
     "name": "stdin",
     "output_type": "stream",
     "text": [
      "Enter the path of the folder to search:  C:\\Users\\Goutham\\OneDrive\\Pictures\\Camera Roll\n",
      "Enter the path of the folder to copy files to:  C:\\Users\\Goutham\\OneDrive\\Pictures\\Screenshots\n",
      "Enter the file extension to search for (e.g., .pdf):  .jpg\n"
     ]
    },
    {
     "name": "stdout",
     "output_type": "stream",
     "text": [
      "Copied: C:\\Users\\Goutham\\OneDrive\\Pictures\\Camera Roll\\WIN_20241115_14_20_46_Pro.jpg -> C:\\Users\\Goutham\\OneDrive\\Pictures\\Screenshots\\WIN_20241115_14_20_46_Pro_1.jpg\n",
      "Copied: C:\\Users\\Goutham\\OneDrive\\Pictures\\Camera Roll\\WIN_20241115_14_20_48_Pro.jpg -> C:\\Users\\Goutham\\OneDrive\\Pictures\\Screenshots\\WIN_20241115_14_20_48_Pro_1.jpg\n",
      "Copied: C:\\Users\\Goutham\\OneDrive\\Pictures\\Camera Roll\\WIN_20250423_15_32_45_Pro.jpg -> C:\\Users\\Goutham\\OneDrive\\Pictures\\Screenshots\\WIN_20250423_15_32_45_Pro_1.jpg\n",
      "Copied: C:\\Users\\Goutham\\OneDrive\\Pictures\\Camera Roll\\WIN_20250423_15_32_50_Pro.jpg -> C:\\Users\\Goutham\\OneDrive\\Pictures\\Screenshots\\WIN_20250423_15_32_50_Pro_1.jpg\n",
      "Copied: C:\\Users\\Goutham\\OneDrive\\Pictures\\Camera Roll\\WIN_20250423_15_33_13_Pro.jpg -> C:\\Users\\Goutham\\OneDrive\\Pictures\\Screenshots\\WIN_20250423_15_33_13_Pro_1.jpg\n",
      "Copied: C:\\Users\\Goutham\\OneDrive\\Pictures\\Camera Roll\\WIN_20250423_15_33_15_Pro (2).jpg -> C:\\Users\\Goutham\\OneDrive\\Pictures\\Screenshots\\WIN_20250423_15_33_15_Pro (2)_1.jpg\n",
      "Copied: C:\\Users\\Goutham\\OneDrive\\Pictures\\Camera Roll\\WIN_20250423_15_33_15_Pro.jpg -> C:\\Users\\Goutham\\OneDrive\\Pictures\\Screenshots\\WIN_20250423_15_33_15_Pro_1.jpg\n",
      "\n",
      "Done! All matching files copied.\n"
     ]
    }
   ],
   "source": [
    "print(\"Goutham A \\n1AY24AI036 \\nAIML'M' \")\n",
    "import os\n",
    "import shutil\n",
    "\n",
    "source_dir = input(\"Enter the path of the folder to search: \").strip()\n",
    "target_dir = input(\"Enter the path of the folder to copy files to: \").strip()\n",
    "file_ext = input(\"Enter the file extension to search for (e.g., .pdf): \").strip().lower()\n",
    "\n",
    "os.makedirs(target_dir, exist_ok=True)\n",
    "\n",
    "for foldername, subfolders, filenames in os.walk(source_dir):\n",
    "    for filename in filenames:\n",
    "        if filename.lower().endswith(file_ext):\n",
    "            source_path = os.path.join(foldername, filename)\n",
    "            target_path = os.path.join(target_dir, filename)\n",
    "\n",
    "            base, ext = os.path.splitext(filename)\n",
    "            counter = 1\n",
    "            while os.path.exists(target_path):\n",
    "                new_name = f\"{base}_{counter}{ext}\"\n",
    "                target_path = os.path.join(target_dir, new_name)\n",
    "                counter += 1\n",
    "\n",
    "            shutil.copy2(source_path, target_path)\n",
    "            print(f\"Copied: {source_path} -> {target_path}\")\n",
    "\n",
    "print(\"\\nDone! All matching files copied.\")\n"
   ]
  },
  {
   "cell_type": "code",
   "execution_count": 13,
   "id": "8248a96a-27bb-40b5-a442-5925e7ec7475",
   "metadata": {},
   "outputs": [
    {
     "name": "stdout",
     "output_type": "stream",
     "text": [
      "Goutham A \n",
      "1AY24AI036 \n",
      "AIML'M' \n"
     ]
    },
    {
     "name": "stdin",
     "output_type": "stream",
     "text": [
      "Enter the path of the folder to search:  Downloads\n"
     ]
    },
    {
     "name": "stdout",
     "output_type": "stream",
     "text": [
      "\n",
      "Files larger than 100MB in 'Downloads':\n",
      "\n",
      "C:\\Users\\Goutham\\Downloads\\(Movies4u.Foo).Alappuzha Gymkhana (2025) WEB-DL 1080p HQ [Hin + Tam + Tel + Mal + Kan] ESub.mkv — 3968.35 MB\n",
      "C:\\Users\\Goutham\\Downloads\\installnp.exe — 611.76 MB\n",
      "C:\\Users\\Goutham\\Downloads\\takeout-20250225T114643Z-002.zip — 2048.28 MB\n",
      "C:\\Users\\Goutham\\Downloads\\takeout-20250225T114643Z-005.zip — 2048.21 MB\n",
      "C:\\Users\\Goutham\\Downloads\\takeout-20250225T114643Z-006.zip — 2048.50 MB\n",
      "C:\\Users\\Goutham\\Downloads\\takeout-20250225T114643Z-007.zip — 538.67 MB\n"
     ]
    }
   ],
   "source": [
    "print(\"Goutham A \\n1AY24AI036 \\nAIML'M' \")\n",
    "import os\n",
    "\n",
    "size_limit = 100 * 1024 * 1024  \n",
    "\n",
    "folder = input(\"Enter the path of the folder to search: \").strip()\n",
    "\n",
    "print(f\"\\nFiles larger than 100MB in '{folder}':\\n\")\n",
    "\n",
    "for foldername, subfolders, filenames in os.walk(folder):\n",
    "    for filename in filenames:\n",
    "        try:\n",
    "            filepath = os.path.join(foldername, filename)\n",
    "            size = os.path.getsize(filepath)\n",
    "            if size > size_limit:\n",
    "                size_mb = size / (1024 * 1024)\n",
    "                print(f\"{os.path.abspath(filepath)} — {size_mb:.2f} MB\")\n",
    "        except Exception as e:\n",
    "            print(f\"Could not access {filepath}: {e}\")\n"
   ]
  },
  {
   "cell_type": "code",
   "execution_count": 2,
   "id": "c1c35c88-e2c8-4cd4-afc2-77fba7137eac",
   "metadata": {},
   "outputs": [
    {
     "name": "stdout",
     "output_type": "stream",
     "text": [
      "Goutham A \n",
      "1AY24AI036 \n",
      "AIML'M' \n"
     ]
    },
    {
     "name": "stdin",
     "output_type": "stream",
     "text": [
      "Enter folder path:  C:\\Users\\Goutham\\OneDrive\\Documents\\New folder\n",
      "Enter file prefix (e.g., spam):  text\n",
      "Enter file extension (without dot, e.g., txt):  txt\n"
     ]
    },
    {
     "name": "stdout",
     "output_type": "stream",
     "text": [
      "Renaming text003.txt → text002.txt\n"
     ]
    },
    {
     "name": "stdin",
     "output_type": "stream",
     "text": [
      "\n",
      "Enter folder path:  C:\\Users\\Goutham\\OneDrive\\Documents\\New folder\n",
      "Enter file prefix (e.g., spam):  text\n",
      "Enter file extension (without dot, e.g., txt):  txt\n",
      "Enter position number to insert gap (e.g., 2):  2\n"
     ]
    },
    {
     "name": "stdout",
     "output_type": "stream",
     "text": [
      "Renaming text002.txt → text003.txt\n"
     ]
    }
   ],
   "source": [
    "print(\"Goutham A \\n1AY24AI036 \\nAIML'M' \")\n",
    "import os\n",
    "import re\n",
    "\n",
    "def fill_gaps(folder, prefix, extension):\n",
    "    files = os.listdir(folder)\n",
    "    pattern = re.compile(rf\"^{re.escape(prefix)}(\\d+)\\.{re.escape(extension)}$\")\n",
    "    matched_files = []\n",
    "    for file in files:\n",
    "        match = pattern.match(file)\n",
    "        if match:\n",
    "            number = int(match.group(1))\n",
    "            matched_files.append((number, file))\n",
    "    matched_files.sort()\n",
    "    expected_number = 1\n",
    "    for actual_number, filename in matched_files:\n",
    "        if actual_number != expected_number:\n",
    "            new_name = f\"{prefix}{str(expected_number).zfill(3)}.{extension}\"\n",
    "            print(f\"Renaming {filename} → {new_name}\")\n",
    "            os.rename(\n",
    "                os.path.join(folder, filename),\n",
    "                os.path.join(folder, new_name)\n",
    "            )\n",
    "        expected_number += 1\n",
    "\n",
    "# Example usage\n",
    "folder = input(\"Enter folder path: \").strip()\n",
    "prefix = input(\"Enter file prefix (e.g., spam): \").strip()\n",
    "extension = input(\"Enter file extension (without dot, e.g., txt): \").strip()\n",
    "\n",
    "if os.path.isdir(folder):\n",
    "    fill_gaps(folder, prefix, extension)\n",
    "else:\n",
    "    print(\"Invalid folder path.\")\n",
    "\n",
    "def insert_gap(folder, prefix, extension, position):\n",
    "    files = os.listdir(folder)\n",
    "    pattern = re.compile(rf\"^{re.escape(prefix)}(\\d+)\\.{re.escape(extension)}$\")\n",
    "\n",
    "    matched_files = []\n",
    "    for file in files:\n",
    "        match = pattern.match(file)\n",
    "        if match:\n",
    "            number = int(match.group(1))\n",
    "            matched_files.append((number, file))\n",
    "\n",
    "    matched_files.sort(reverse=True)  \n",
    "\n",
    "    for number, filename in matched_files:\n",
    "        if number >= position:\n",
    "            new_number = number + 1\n",
    "            new_name = f\"{prefix}{str(new_number).zfill(3)}.{extension}\"\n",
    "            print(f\"Renaming {filename} → {new_name}\")\n",
    "            os.rename(\n",
    "                os.path.join(folder, filename),\n",
    "                os.path.join(folder, new_name)\n",
    "            )\n",
    "\n",
    "folder = input(\"\\nEnter folder path: \").strip()\n",
    "prefix = input(\"Enter file prefix (e.g., spam): \").strip()\n",
    "extension = input(\"Enter file extension (without dot, e.g., txt): \").strip()\n",
    "position = int(input(\"Enter position number to insert gap (e.g., 2): \").strip())\n",
    "if os.path.isdir(folder):\n",
    "    insert_gap(folder, prefix, extension, position)\n",
    "else:\n",
    "    print(\"Invalid folder path.\")\n",
    "\n",
    "\n"
   ]
  },
  {
   "cell_type": "code",
   "execution_count": 3,
   "id": "c9069ee0-8496-4e3c-8157-9e9712d44099",
   "metadata": {},
   "outputs": [
    {
     "name": "stdout",
     "output_type": "stream",
     "text": [
      "Goutham A \n",
      "1AY24AI036 \n",
      "AIML'M' \n",
      "Guess the coin toss! Enter heads or tails:\n"
     ]
    },
    {
     "name": "stdin",
     "output_type": "stream",
     "text": [
      " heads\n"
     ]
    },
    {
     "name": "stdout",
     "output_type": "stream",
     "text": [
      "Nope! Guess again!\n"
     ]
    },
    {
     "name": "stdin",
     "output_type": "stream",
     "text": [
      " tails\n"
     ]
    },
    {
     "name": "stdout",
     "output_type": "stream",
     "text": [
      "You got it!\n"
     ]
    }
   ],
   "source": [
    "print(\"Goutham A \\n1AY24AI036 \\nAIML'M' \")\n",
    "import random\n",
    "\n",
    "guess = ''\n",
    "while guess not in ('heads', 'tails'):\n",
    "    print('Guess the coin toss! Enter heads or tails:')\n",
    "    guess = input().lower()\n",
    "\n",
    "toss = random.randint(0, 1)  \n",
    "toss_result = 'heads' if toss == 1 else 'tails'\n",
    "\n",
    "if guess == toss_result:\n",
    "    print('You got it!')\n",
    "else:\n",
    "    print('Nope! Guess again!')\n",
    "    guess = ''\n",
    "    while guess not in ('heads', 'tails'):\n",
    "        guess = input().lower()\n",
    "    if guess == toss_result:\n",
    "        print('You got it!')\n",
    "    else:\n",
    "        print('Nope. You are really bad at this game.')\n",
    "\n"
   ]
  },
  {
   "cell_type": "code",
   "execution_count": 4,
   "id": "abfcb21a-bea4-4ef4-8e7f-a876a535b34a",
   "metadata": {},
   "outputs": [
    {
     "name": "stdout",
     "output_type": "stream",
     "text": [
      "Goutham A \n",
      "1AY24AI036 \n",
      "AIML'M' \n",
      "Point in circle: True\n",
      "Rectangle in circle: True\n",
      "Rectangle overlaps circle: True\n"
     ]
    }
   ],
   "source": [
    "print(\"Goutham A \\n1AY24AI036 \\nAIML'M' \")\n",
    "import math\n",
    "\n",
    "class Point:\n",
    "    def __init__(self, x, y):\n",
    "        self.x = x\n",
    "        self.y = y\n",
    "\n",
    "class Circle:\n",
    "    def __init__(self, center, radius):\n",
    "        self.center = center\n",
    "        self.radius = radius\n",
    "\n",
    "class Rectangle:\n",
    "    def __init__(self, corner, width, height):\n",
    "        self.corner = corner \n",
    "        self.width = width\n",
    "        self.height = height\n",
    "\n",
    "def point_in_circle(circle, point):\n",
    "    dx = point.x - circle.center.x\n",
    "    dy = point.y - circle.center.y\n",
    "    distance = math.hypot(dx, dy)\n",
    "    return distance <= circle.radius\n",
    "\n",
    "def rect_in_circle(circle, rect):\n",
    "    corners = get_rectangle_corners(rect)\n",
    "    return all(point_in_circle(circle, corner) for corner in corners)\n",
    "\n",
    "def rect_circle_overlap(circle, rect):\n",
    "    corners = get_rectangle_corners(rect)\n",
    "    if any(point_in_circle(circle, corner) for corner in corners):\n",
    "        return True\n",
    "\n",
    "    if (rect.corner.x <= circle.center.x <= rect.corner.x + rect.width and\n",
    "        rect.corner.y <= circle.center.y <= rect.corner.y + rect.height):\n",
    "        return True\n",
    "\n",
    "    return False \n",
    "\n",
    "\n",
    "def get_rectangle_corners(rect):\n",
    "    return [\n",
    "        rect.corner,\n",
    "        Point(rect.corner.x + rect.width, rect.corner.y),\n",
    "        Point(rect.corner.x, rect.corner.y + rect.height),\n",
    "        Point(rect.corner.x + rect.width, rect.corner.y + rect.height)\n",
    "    ]\n",
    "    \n",
    "c = Circle(Point(150, 100), 75)\n",
    "\n",
    "p = Point(160, 110)\n",
    "print(\"Point in circle:\", point_in_circle(c, p))  \n",
    "\n",
    "r1 = Rectangle(Point(140, 90), 10, 10)\n",
    "print(\"Rectangle in circle:\", rect_in_circle(c, r1))  \n",
    "\n",
    "r2 = Rectangle(Point(200, 100), 100, 50)\n",
    "print(\"Rectangle overlaps circle:\", rect_circle_overlap(c, r2)) \n"
   ]
  },
  {
   "cell_type": "code",
   "execution_count": 5,
   "id": "0a8302c4-7a75-4973-ae85-7d0d2c895740",
   "metadata": {},
   "outputs": [
    {
     "name": "stdout",
     "output_type": "stream",
     "text": [
      "Goutham A \n",
      "1AY24AI036 \n",
      "AIML'M' \n",
      "Average pace per mile: 00:10:00\n"
     ]
    }
   ],
   "source": [
    "print(\"Goutham A \\n1AY24AI036 \\nAIML'M' \")\n",
    "class Time:\n",
    "    def __init__(self, hour=0, minute=0, second=0):\n",
    "        self.hour = hour\n",
    "        self.minute = minute\n",
    "        self.second = second\n",
    "\n",
    "    def __str__(self):\n",
    "        return f\"{self.hour:02}:{self.minute:02}:{self.second:02}\"\n",
    "\n",
    "def time_to_seconds(t):\n",
    "    return t.hour * 3600 + t.minute * 60 + t.second\n",
    "\n",
    "def seconds_to_time(seconds):\n",
    "    seconds = int(seconds)\n",
    "    hour = seconds // 3600\n",
    "    seconds %= 3600\n",
    "    minute = seconds // 60\n",
    "    second = seconds % 60\n",
    "    return Time(hour, minute, second)\n",
    "\n",
    "def mul_time(time, number):\n",
    "    total_seconds = time_to_seconds(time) * number\n",
    "    return seconds_to_time(total_seconds)\n",
    "\n",
    "def average_pace(finishing_time, distance):\n",
    "    return mul_time(finishing_time, 1 / distance)\n",
    "\n",
    "finish = Time(1, 40, 0)\n",
    "distance = 10 \n",
    "\n",
    "pace = average_pace(finish, distance)\n",
    "print(\"Average pace per mile:\", pace)\n"
   ]
  },
  {
   "cell_type": "code",
   "execution_count": 7,
   "id": "c27478db-327e-4c3c-81c7-e0940e665107",
   "metadata": {},
   "outputs": [
    {
     "name": "stdout",
     "output_type": "stream",
     "text": [
      "Goutham A \n",
      "1AY24AI036 \n",
      "AIML'M' \n",
      "\n",
      "1. Show Today's Date and Day of Week\n",
      "Today's date: 2025-06-24\n",
      "Day of the week: Tuesday\n",
      "\n",
      "2. Birthday Info\n"
     ]
    },
    {
     "name": "stdin",
     "output_type": "stream",
     "text": [
      "Enter your birthday (YYYY-MM-DD):  2006-10-03\n"
     ]
    },
    {
     "name": "stdout",
     "output_type": "stream",
     "text": [
      "You are 18 years old.\n",
      "Time until your next birthday: 100 days, 2 hours, 37 minutes, 45 seconds\n",
      "\n",
      "3. Double Day\n",
      "Double Day is: 2010-01-02\n",
      "\n",
      "4. N-times Older Day\n",
      "The day one person is 3 times older is: 2007-07-03\n"
     ]
    }
   ],
   "source": [
    "print(\"Goutham A \\n1AY24AI036 \\nAIML'M' \")\n",
    "from datetime import datetime, timedelta\n",
    "def show_today():\n",
    "    today = datetime.today()\n",
    "    print(\"Today's date:\", today.date())\n",
    "    print(\"Day of the week:\", today.strftime(\"%A\")) \n",
    "def birthday_info():\n",
    "    bday_str = input(\"Enter your birthday (YYYY-MM-DD): \")\n",
    "    birthday = datetime.strptime(bday_str, \"%Y-%m-%d\")\n",
    "    today = datetime.today()\n",
    "    age = today.year - birthday.year\n",
    "    if (today.month, today.day) < (birthday.month, birthday.day):\n",
    "        age -= 1\n",
    "    print(f\"You are {age} years old.\")\n",
    "    next_birthday = birthday.replace(year=today.year)\n",
    "    if next_birthday < today:\n",
    "        next_birthday = next_birthday.replace(year=today.year + 1)\n",
    "\n",
    "    time_until = next_birthday - today\n",
    "    total_seconds = int(time_until.total_seconds())\n",
    "    days = total_seconds // 86400\n",
    "    hours = (total_seconds % 86400) // 3600\n",
    "    minutes = (total_seconds % 3600) // 60\n",
    "    seconds = total_seconds % 60\n",
    "    print(f\"Time until your next birthday: {days} days, {hours} hours, {minutes} minutes, {seconds} seconds\")\n",
    "def double_day(birth1_str, birth2_str):\n",
    "    b1 = datetime.strptime(birth1_str, \"%Y-%m-%d\")\n",
    "    b2 = datetime.strptime(birth2_str, \"%Y-%m-%d\")\n",
    "    if b1 > b2:\n",
    "        b1, b2 = b2, b1\n",
    "    delta = b2 - b1\n",
    "    double_day = b2 + delta\n",
    "    print(\"Double Day is:\", double_day.date())\n",
    "def n_times_day(birth1_str, birth2_str, n):\n",
    "    b1 = datetime.strptime(birth1_str, \"%Y-%m-%d\")\n",
    "    b2 = datetime.strptime(birth2_str, \"%Y-%m-%d\")\n",
    "    if b1 > b2:\n",
    "        b1, b2 = b2, b1\n",
    "    delta = b2 - b1\n",
    "    n_day = b2 + delta / (n - 1)\n",
    "    print(f\"The day one person is {n} times older is:\", n_day.date())\n",
    "if __name__ == \"__main__\":\n",
    "    print(\"\\n1. Show Today's Date and Day of Week\")\n",
    "    show_today()\n",
    "    print(\"\\n2. Birthday Info\")\n",
    "    birthday_info()\n",
    "    print(\"\\n3. Double Day\")\n",
    "    double_day(\"2000-01-01\", \"2005-01-01\")\n",
    "    print(\"\\n4. N-times Older Day\")\n",
    "    n_times_day(\"2000-01-01\", \"2005-01-01\", 3)\n",
    "\n"
   ]
  },
  {
   "cell_type": "code",
   "execution_count": 8,
   "id": "bb32bf76-7570-4d7d-a3d9-9bfc2817f431",
   "metadata": {},
   "outputs": [
    {
     "name": "stdout",
     "output_type": "stream",
     "text": [
      "Goutham A \n",
      "1AY24AI036 \n",
      "AIML'M' \n",
      "Start time: 09:45:00\n",
      "Duration: 01:35:00\n",
      "End time: 11:20:00\n",
      "Is end after start? True\n"
     ]
    }
   ],
   "source": [
    "print(\"Goutham A \\n1AY24AI036 \\nAIML'M' \")\n",
    "class Time:\n",
    "    def __init__(self, hour=0, minute=0, second=0):\n",
    "        self.total_seconds = hour * 3600 + minute * 60 + second\n",
    "\n",
    "    def __str__(self):\n",
    "        h, m, s = self.to_hms()\n",
    "        return f\"{h:02}:{m:02}:{s:02}\"\n",
    "    def to_hms(self):\n",
    "        \"\"\"Convert total_seconds into hours, minutes, seconds.\"\"\"\n",
    "        seconds = self.total_seconds\n",
    "        hour = seconds // 3600\n",
    "        seconds %= 3600\n",
    "        minute = seconds // 60\n",
    "        second = seconds % 60\n",
    "        return hour, minute, second\n",
    "    def time_to_int(self):\n",
    "        \"\"\"Return total seconds since midnight.\"\"\"\n",
    "        return self.total_seconds\n",
    "    def increment(self, seconds):\n",
    "        \"\"\"Add seconds to time.\"\"\"\n",
    "        return Time(0, 0, self.total_seconds + seconds)\n",
    "    def is_after(self, other):\n",
    "        return self.total_seconds > other.total_seconds\n",
    "def int_to_time(seconds):\n",
    "    return Time(0, 0, seconds)\n",
    "def main():\n",
    "    start = Time(9, 45, 0)\n",
    "    print(\"Start time:\", start)\n",
    "    duration = Time(1, 35, 0)\n",
    "    print(\"Duration:\", duration)\n",
    "    end = start.increment(duration.time_to_int())\n",
    "    print(\"End time:\", end)\n",
    "    print(\"Is end after start?\", end.is_after(start))\n",
    "if __name__ == '__main__':\n",
    "    main()\n",
    "\n"
   ]
  },
  {
   "cell_type": "code",
   "execution_count": 9,
   "id": "c1a13e6d-4d26-4ebd-b797-2d5bafc5c4bf",
   "metadata": {},
   "outputs": [
    {
     "name": "stdout",
     "output_type": "stream",
     "text": [
      "Goutham A \n",
      "1AY24AI036 \n",
      "AIML'M' \n",
      "Kanga: Kangaroo with pouch contents: [Kangaroo with pouch contents: []]\n",
      "Roo: Kangaroo with pouch contents: []\n"
     ]
    }
   ],
   "source": [
    "print(\"Goutham A \\n1AY24AI036 \\nAIML'M' \")\n",
    "class Kangaroo:\n",
    "    def __init__(self):\n",
    "        \n",
    "        self.pouch_contents = []\n",
    "\n",
    "    def put_in_pouch(self, item):\n",
    "        self.pouch_contents.append(item)\n",
    "\n",
    "    def __str__(self):\n",
    "        content_str = ', '.join(str(item) for item in self.pouch_contents)\n",
    "        return f\"Kangaroo with pouch contents: [{content_str}]\"\n",
    "\n",
    "kanga = Kangaroo()\n",
    "roo = Kangaroo()\n",
    "kanga.put_in_pouch(roo)\n",
    "print(\"Kanga:\", kanga)\n",
    "print(\"Roo:\", roo)"
   ]
  }
 ],
 "metadata": {
  "kernelspec": {
   "display_name": "Python 3 (ipykernel)",
   "language": "python",
   "name": "python3"
  },
  "language_info": {
   "codemirror_mode": {
    "name": "ipython",
    "version": 3
   },
   "file_extension": ".py",
   "mimetype": "text/x-python",
   "name": "python",
   "nbconvert_exporter": "python",
   "pygments_lexer": "ipython3",
   "version": "3.13.2"
  }
 },
 "nbformat": 4,
 "nbformat_minor": 5
}
